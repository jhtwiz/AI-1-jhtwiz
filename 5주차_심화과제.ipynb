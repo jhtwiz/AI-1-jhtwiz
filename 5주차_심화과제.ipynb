{
  "nbformat": 4,
  "nbformat_minor": 0,
  "metadata": {
    "colab": {
      "provenance": [],
      "include_colab_link": true
    },
    "kernelspec": {
      "name": "python3",
      "display_name": "Python 3"
    },
    "language_info": {
      "name": "python"
    }
  },
  "cells": [
    {
      "cell_type": "markdown",
      "metadata": {
        "id": "view-in-github",
        "colab_type": "text"
      },
      "source": [
        "<a href=\"https://colab.research.google.com/github/jhtwiz/AI-1-jhtwiz/blob/main/5%EC%A3%BC%EC%B0%A8_%EC%8B%AC%ED%99%94%EA%B3%BC%EC%A0%9C.ipynb\" target=\"_parent\"><img src=\"https://colab.research.google.com/assets/colab-badge.svg\" alt=\"Open In Colab\"/></a>"
      ]
    },
    {
      "cell_type": "markdown",
      "source": [
        "# GPT-4로 수능 국어 문제 풀기"
      ],
      "metadata": {
        "id": "QpzqKZIGiAJf"
      }
    },
    {
      "cell_type": "code",
      "source": [
        "!pip install openai"
      ],
      "metadata": {
        "colab": {
          "base_uri": "https://localhost:8080/"
        },
        "id": "EGkEER-ulfod",
        "outputId": "a25eda0e-8522-4a6d-858b-438cdc6966fa"
      },
      "execution_count": 1,
      "outputs": [
        {
          "output_type": "stream",
          "name": "stdout",
          "text": [
            "Collecting openai\n",
            "  Downloading openai-1.51.2-py3-none-any.whl.metadata (24 kB)\n",
            "Requirement already satisfied: anyio<5,>=3.5.0 in /usr/local/lib/python3.10/dist-packages (from openai) (3.7.1)\n",
            "Requirement already satisfied: distro<2,>=1.7.0 in /usr/lib/python3/dist-packages (from openai) (1.7.0)\n",
            "Collecting httpx<1,>=0.23.0 (from openai)\n",
            "  Downloading httpx-0.27.2-py3-none-any.whl.metadata (7.1 kB)\n",
            "Collecting jiter<1,>=0.4.0 (from openai)\n",
            "  Downloading jiter-0.6.1-cp310-cp310-manylinux_2_17_x86_64.manylinux2014_x86_64.whl.metadata (5.2 kB)\n",
            "Requirement already satisfied: pydantic<3,>=1.9.0 in /usr/local/lib/python3.10/dist-packages (from openai) (2.9.2)\n",
            "Requirement already satisfied: sniffio in /usr/local/lib/python3.10/dist-packages (from openai) (1.3.1)\n",
            "Requirement already satisfied: tqdm>4 in /usr/local/lib/python3.10/dist-packages (from openai) (4.66.5)\n",
            "Requirement already satisfied: typing-extensions<5,>=4.11 in /usr/local/lib/python3.10/dist-packages (from openai) (4.12.2)\n",
            "Requirement already satisfied: idna>=2.8 in /usr/local/lib/python3.10/dist-packages (from anyio<5,>=3.5.0->openai) (3.10)\n",
            "Requirement already satisfied: exceptiongroup in /usr/local/lib/python3.10/dist-packages (from anyio<5,>=3.5.0->openai) (1.2.2)\n",
            "Requirement already satisfied: certifi in /usr/local/lib/python3.10/dist-packages (from httpx<1,>=0.23.0->openai) (2024.8.30)\n",
            "Collecting httpcore==1.* (from httpx<1,>=0.23.0->openai)\n",
            "  Downloading httpcore-1.0.6-py3-none-any.whl.metadata (21 kB)\n",
            "Collecting h11<0.15,>=0.13 (from httpcore==1.*->httpx<1,>=0.23.0->openai)\n",
            "  Downloading h11-0.14.0-py3-none-any.whl.metadata (8.2 kB)\n",
            "Requirement already satisfied: annotated-types>=0.6.0 in /usr/local/lib/python3.10/dist-packages (from pydantic<3,>=1.9.0->openai) (0.7.0)\n",
            "Requirement already satisfied: pydantic-core==2.23.4 in /usr/local/lib/python3.10/dist-packages (from pydantic<3,>=1.9.0->openai) (2.23.4)\n",
            "Downloading openai-1.51.2-py3-none-any.whl (383 kB)\n",
            "\u001b[2K   \u001b[90m━━━━━━━━━━━━━━━━━━━━━━━━━━━━━━━━━━━━━━━━\u001b[0m \u001b[32m383.7/383.7 kB\u001b[0m \u001b[31m9.7 MB/s\u001b[0m eta \u001b[36m0:00:00\u001b[0m\n",
            "\u001b[?25hDownloading httpx-0.27.2-py3-none-any.whl (76 kB)\n",
            "\u001b[2K   \u001b[90m━━━━━━━━━━━━━━━━━━━━━━━━━━━━━━━━━━━━━━━━\u001b[0m \u001b[32m76.4/76.4 kB\u001b[0m \u001b[31m4.4 MB/s\u001b[0m eta \u001b[36m0:00:00\u001b[0m\n",
            "\u001b[?25hDownloading httpcore-1.0.6-py3-none-any.whl (78 kB)\n",
            "\u001b[2K   \u001b[90m━━━━━━━━━━━━━━━━━━━━━━━━━━━━━━━━━━━━━━━━\u001b[0m \u001b[32m78.0/78.0 kB\u001b[0m \u001b[31m3.2 MB/s\u001b[0m eta \u001b[36m0:00:00\u001b[0m\n",
            "\u001b[?25hDownloading jiter-0.6.1-cp310-cp310-manylinux_2_17_x86_64.manylinux2014_x86_64.whl (325 kB)\n",
            "\u001b[2K   \u001b[90m━━━━━━━━━━━━━━━━━━━━━━━━━━━━━━━━━━━━━━━━\u001b[0m \u001b[32m325.2/325.2 kB\u001b[0m \u001b[31m12.8 MB/s\u001b[0m eta \u001b[36m0:00:00\u001b[0m\n",
            "\u001b[?25hDownloading h11-0.14.0-py3-none-any.whl (58 kB)\n",
            "\u001b[2K   \u001b[90m━━━━━━━━━━━━━━━━━━━━━━━━━━━━━━━━━━━━━━━━\u001b[0m \u001b[32m58.3/58.3 kB\u001b[0m \u001b[31m2.2 MB/s\u001b[0m eta \u001b[36m0:00:00\u001b[0m\n",
            "\u001b[?25hInstalling collected packages: jiter, h11, httpcore, httpx, openai\n",
            "Successfully installed h11-0.14.0 httpcore-1.0.6 httpx-0.27.2 jiter-0.6.1 openai-1.51.2\n"
          ]
        }
      ]
    },
    {
      "cell_type": "code",
      "execution_count": 3,
      "metadata": {
        "id": "OR-WLBupSWge"
      },
      "outputs": [],
      "source": [
        "from google.colab import userdata\n",
        "import openai\n",
        "openai_key = userdata.get('openai')"
      ]
    },
    {
      "cell_type": "code",
      "source": [
        "import json\n",
        "\n",
        "with open('./2023_11_KICE.json', 'r') as f:\n",
        "    db = json.load(f)\n",
        "\n",
        "db[0]"
      ],
      "metadata": {
        "colab": {
          "base_uri": "https://localhost:8080/"
        },
        "id": "Lsqk_L46l3bD",
        "outputId": "d19d8e1b-3d73-43f6-f43f-00b7f7b3ff21"
      },
      "execution_count": 5,
      "outputs": [
        {
          "output_type": "execute_result",
          "data": {
            "text/plain": [
              "{'id': '2023_11_KICE_1-3',\n",
              " 'paragraph': '사람들이 지속적으로 책을 읽는 이유 중 하나는 즐거움이다. 독서의 즐거움에는 여러 가지가 있겠지만 그 중심에는 ‘소통의 즐거움’이 있다.독자는 독서를 통해 책과 소통하는 즐거움을 경험한다. 독서는필자와 간접적으로 대화하는 소통 행위이다. 독자는 자신이 속한사회나 시대의 영향 아래 필자가 속해 있거나 드러내고자 하는 사회나 시대를 경험한다. 직접 경험하지 못했던 다양한 삶을 필자를 매개로 만나고 이해하면서 독자는 더 넓은 시야로 세계를바라볼 수 있다. 이때 같은 책을 읽은 독자라도 독자의 배경지식이나 관점 등의 독자 요인, 읽기 환경이나 과제 등의 상황 요인이 다르므로, 필자가 보여 주는 세계를 그대로 수용하지 않고 저마다 소통 과정에서 다른 의미를 구성할 수 있다.[A] (이러한 소통은 독자가 책의 내용에 대해 질문하고 답을 찾아내는 과정에서 가능해진다. 독자는 책에서 답을 찾는 질문, 독자 자신에게서 답을 찾는 질문 등을 제기할 수 있다. 전자의 경우 책에 명시된 내용에서 답을 발견할 수 있고, 책의 내용들을 관계 지으며 답에 해당하는 내용을 스스로 구성할 수도 있다. 또한 후자의 경우 책에는 없는 독자의 경험에서 답을 찾을 수 있다. 이런 질문들을 풍부히 생성하고 주체적으로 답을 찾을 때 소통의 즐거움은 더 커진다.)한편 독자는 ㉠ (다른 독자와 소통하는 즐거움을 경험할 수도 있다.) 책과의 소통을 통해 개인적으로 형성한 의미를 독서 모임이나 독서 동아리 등에서 다른 독자들과 나누는 일이 이에 해당한다. 비슷한 해석에 서로 공감하며 기존 인식을 강화하거나 관점의 차이를 확인하고 기존 인식을 조정하는 과정에서, 독자는자신의 인식을 심화 확장할 수 있다. 최근 소통 공간이 온라인으로 확대되면서 독서를 통해 다른 독자들과 소통하며 즐거움을누리는 양상이 더 다양해지고 있다. 자신의 독서 경험을 담은 글이나 동영상을 생산 공유함으로써, 책을 읽지 않은 타인이 책과 소통하도록 돕는 것도 책을 통한 소통의 즐거움을 나누는 일이다.',\n",
              " 'type': 0,\n",
              " 'problems': [{'question': '윗글의 내용과 일치하지 않는 것은?',\n",
              "   'choices': ['같은 책을 읽은 독자라도 서로 다른 의미를 구성할 수 있다.',\n",
              "    '다른 독자와의 소통은 독자가 인식의 폭을 확장하도록 돕는다',\n",
              "    '독자는 직접 경험해 보지 못했던 다양한 삶을 책의 필자를 매개로 접할 수 있다.',\n",
              "    '독자의 배경지식, 관점, 읽기 환경, 과제는 독자의 의미 구성에 영향을 주는 독자 요인이다.',\n",
              "    '독자는 책을 읽을 때 자신이 속한 사회나 시대의 영향을 받으며 필자와 간접적으로 대화한다'],\n",
              "   'answer': 4,\n",
              "   'score': 2},\n",
              "  {'question': '다음은 학생이 독서 후 작성한 글의 일부이다. [A]를 바탕으로 ⓐ～ⓔ를 이해한 내용으로 가장 적절한 것은?',\n",
              "   'question_plus': \"ⓐ('음악 시간에 들었던 베토벤의 교향곡 <합창>이 위대한 작품인 이유는 무엇일까?'하는 생각)에, 베토벤에 대한 책을 빌렸다. 책에서는 기약만으로 구성됐던 교향곡에 성악을 결합헤 개성을 드러냈다는 점에서 ⓑ(이 곡이 낭만주의 음악의 특징을 보여 준다고 했다.) <합창>을 해설한 부분에 이어, 베토벤의 생애에 관한 뒷부분도 읽었는데, ⓒ(이 내용들을 종합해, 절망적 상황에서도 열정적으로 자신이 좋아하는 일을 했기에 교향곡 구성의 새로움을 보여 준 명작이 탄생했음을 알게 됐다.) 이후 ⓓ(내가 진정으로 좋아하는 일이 무엇인지 나에게 묻게 되었다.) ⓔ(글 쓰는 일에서 가장 큰 행복을 느꼈던 나를 발견)할 수 있었고, 나도 어떤 상황에서든 좋아하는 일을 계속해야겠다고 생각했다.\",\n",
              "   'choices': ['ⓐ와 ⓑ에는 모두 ‘독자 자신에게서 답을 찾는 질문’이 나타난다.',\n",
              "    'ⓒ와 ⓓ에는 모두 ‘책에 명시된 내용’에서 질문의 답을 찾아내는 모습이 나타난다.',\n",
              "    'ⓐ에는 ‘책에서 답을 찾는 질문’이, ⓔ에는 그에 대한 답을 ‘독자의 경험’에서 찾아내는 모습이 나타난다.',\n",
              "    'ⓑ에는 ‘책에서 답을 찾는 질문’이, ⓒ에는 그에 대한 답을 ‘책의 내용들을 관계 지으며’ 찾아내는 모습이 나타난다.',\n",
              "    'ⓓ에는 ‘독자 자신에게서 답을 찾는 질문’이, ⓔ에는 그에 대한 답을 ‘독자의 경험’에서 찾아내는 모습이 나타난다.'],\n",
              "   'answer': 5,\n",
              "   'score': 3},\n",
              "  {'question': '윗글을 읽고 ㉠에 대해 보인 반응으로 적절하지 않은 것은?',\n",
              "   'choices': ['스스로 독서 계획을 세우고 자신에게 필요한 책을 찾아 개인적으로 읽는 과정에서 경험할 수 있겠군.',\n",
              "    '독서 모임에서 서로 다른 관점을 확인하고 자신의 관점을 조정하는 과정에서 경험할 수 있겠군.',\n",
              "    '개인적으로 형성한 의미를, 독서 동아리를 통해 심화하는 과정에서 경험할 수 있겠군.',\n",
              "    '자신의 독서 경험을 담은 콘텐츠를 생산하고 공유하는 과정에서 경험할 수 있겠군.',\n",
              "    '오프라인뿐 아니라 온라인 공간에서 해석을 나누는 과정에서도 경험할 수 있겠군.'],\n",
              "   'answer': 1,\n",
              "   'score': 2}]}"
            ]
          },
          "metadata": {},
          "execution_count": 5
        }
      ]
    },
    {
      "cell_type": "markdown",
      "source": [
        "데이터 확인 후 일단 잘 돌아가는지 체크하기 위해 4o-mini로 먼저 테스트"
      ],
      "metadata": {
        "id": "n1jb3d_X48U7"
      }
    },
    {
      "cell_type": "code",
      "source": [
        "from openai import OpenAI\n",
        "client = OpenAI(api_key=openai_key)\n",
        "\n",
        "\n",
        "def prediction(problem):\n",
        "    result = []\n",
        "\n",
        "    system_prompt = \"As a smart student, carefully read the paragraph, questions. Then, think step by step and select the correct answer from the 5 choices. However, at the end, provide only the number of the correct answer (1, 2, 3, 4, or 5) without any explanation.\"\n",
        "\n",
        "    for test in problem['problems']:\n",
        "        question = test['question']\n",
        "        question_plus = test.get('question_plus', None)\n",
        "        choices = test['choices']\n",
        "        answer = test['answer']\n",
        "        score = test['score']\n",
        "\n",
        "        user_prompt = f\"Paragraph:\\n{problem['paragraph']}\\n\\nQuestion:\\n\"\n",
        "\n",
        "        user_prompt += f\"{question}\\n\\n\"\n",
        "\n",
        "        if (question_plus): user_prompt += f\"Question Plus:\\n{question_plus}\\n\\n\"\n",
        "\n",
        "        user_prompt += \"Choices:\\n\"\n",
        "\n",
        "        for i, choice in enumerate(choices):\n",
        "            user_prompt += f\"{i+1} - {choice}\\n\"\n",
        "\n",
        "        messages=[\n",
        "            {\"role\": \"system\", \"content\": system_prompt},\n",
        "            {\"role\": \"user\", \"content\": user_prompt}\n",
        "        ]\n",
        "\n",
        "        completion = client.chat.completions.create(\n",
        "            model=\"gpt-4o-mini\",\n",
        "            messages=messages,\n",
        "        )\n",
        "\n",
        "        pred = completion.choices[0].message.content\n",
        "        result.append({'pred': pred, 'answer': str(answer), 'score': score})\n",
        "\n",
        "    return result"
      ],
      "metadata": {
        "id": "5uv62pDgmuRC"
      },
      "execution_count": 34,
      "outputs": []
    },
    {
      "cell_type": "code",
      "source": [
        "def calcAccuracy(results):\n",
        "    return sum(test['score'] for result in results for test in result if test['pred'] == test['answer'])"
      ],
      "metadata": {
        "id": "GT72fyxwyhLq"
      },
      "execution_count": 40,
      "outputs": []
    },
    {
      "cell_type": "code",
      "source": [
        "results_mini = [prediction(problem) for problem in db]"
      ],
      "metadata": {
        "id": "0s_SD_27xTpq"
      },
      "execution_count": 36,
      "outputs": []
    },
    {
      "cell_type": "code",
      "source": [
        "print(results_mini)"
      ],
      "metadata": {
        "colab": {
          "base_uri": "https://localhost:8080/"
        },
        "id": "c0B9TwD4wz_N",
        "outputId": "86e6931c-2ecf-46be-e608-4e8fc6d49774"
      },
      "execution_count": 37,
      "outputs": [
        {
          "output_type": "stream",
          "name": "stdout",
          "text": [
            "[[{'pred': '2', 'answer': '4', 'score': 2}, {'pred': '4', 'answer': '5', 'score': 3}, {'pred': '1', 'answer': '1', 'score': 2}], [{'pred': '4', 'answer': '4', 'score': 2}, {'pred': '5', 'answer': '5', 'score': 2}, {'pred': '3', 'answer': '3', 'score': 2}, {'pred': '2', 'answer': '2', 'score': 2}, {'pred': '3', 'answer': '5', 'score': 3}, {'pred': '2', 'answer': '2', 'score': 2}], [{'pred': '1', 'answer': '4', 'score': 2}, {'pred': '3', 'answer': '5', 'score': 2}, {'pred': '2', 'answer': '2', 'score': 3}, {'pred': '5', 'answer': '5', 'score': 2}], [{'pred': '3', 'answer': '3', 'score': 2}, {'pred': '3', 'answer': '4', 'score': 2}, {'pred': '3', 'answer': '4', 'score': 2}, {'pred': '3', 'answer': '1', 'score': 3}], [{'pred': '4', 'answer': '4', 'score': 2}, {'pred': '3', 'answer': '3', 'score': 2}, {'pred': '4', 'answer': '3', 'score': 2}, {'pred': '5', 'answer': '5', 'score': 3}], [{'pred': '3', 'answer': '1', 'score': 2}, {'pred': '3', 'answer': '5', 'score': 2}, {'pred': '4', 'answer': '3', 'score': 3}, {'pred': '1', 'answer': '3', 'score': 2}, {'pred': '4', 'answer': '4', 'score': 2}], [{'pred': '1', 'answer': '1', 'score': 2}, {'pred': '5', 'answer': '5', 'score': 2}, {'pred': '3', 'answer': '1', 'score': 2}, {'pred': '2', 'answer': '2', 'score': 3}], [{'pred': '1', 'answer': '1', 'score': 2}, {'pred': '4', 'answer': '4', 'score': 2}, {'pred': '3', 'answer': '2', 'score': 2}, {'pred': '3', 'answer': '3', 'score': 3}], [{'pred': '1', 'answer': '1', 'score': 2}, {'pred': '5', 'answer': '5', 'score': 2}, {'pred': '3', 'answer': '3', 'score': 2}], [{'pred': '2', 'answer': '4', 'score': 2}, {'pred': '2', 'answer': '4', 'score': 2}, {'pred': '3', 'answer': '3', 'score': 2}, {'pred': '5', 'answer': '2', 'score': 3}, {'pred': '4', 'answer': '4', 'score': 2}], [{'pred': '4', 'answer': '5', 'score': 2}, {'pred': '2', 'answer': '2', 'score': 2}, {'pred': '3', 'answer': '1', 'score': 3}]]\n"
          ]
        }
      ]
    },
    {
      "cell_type": "code",
      "source": [
        "score_mini = calcAccuracy(results_mini)\n",
        "score_mini"
      ],
      "metadata": {
        "colab": {
          "base_uri": "https://localhost:8080/"
        },
        "id": "k0eEtGVGzWn7",
        "outputId": "d38cd5f7-7fc1-451d-b69b-7d94732c642c"
      },
      "execution_count": 41,
      "outputs": [
        {
          "output_type": "execute_result",
          "data": {
            "text/plain": [
              "54"
            ]
          },
          "metadata": {},
          "execution_count": 41
        }
      ]
    },
    {
      "cell_type": "markdown",
      "source": [
        "mini로 54점이 나왔다. 4o는 어떨까?"
      ],
      "metadata": {
        "id": "A_CcqZkL5Ed_"
      }
    },
    {
      "cell_type": "code",
      "source": [
        "#위와 완전 동일하지만 model만 gpt-4o로. 애초에 def prediction(problem, model='gpt-4o')로 할걸 그랬다..\n",
        "def prediction_4o(problem):\n",
        "    result = []\n",
        "\n",
        "    system_prompt = \"As a smart student, carefully read the paragraph, questions. Then, think step by step and select the correct answer from the 5 choices. However, at the end, provide only the number of the correct answer (1, 2, 3, 4, or 5) without any explanation.\"\n",
        "\n",
        "    for test in problem['problems']:\n",
        "        question = test['question']\n",
        "        question_plus = test.get('question_plus', None)\n",
        "        choices = test['choices']\n",
        "        answer = test['answer']\n",
        "        score = test['score']\n",
        "\n",
        "        user_prompt = f\"Paragraph:\\n{problem['paragraph']}\\n\\nQuestion:\\n\"\n",
        "\n",
        "        user_prompt += f\"{question}\\n\\n\"\n",
        "\n",
        "        if (question_plus): user_prompt += f\"Question Plus:\\n{question_plus}\\n\\n\"\n",
        "\n",
        "        user_prompt += \"Choices:\\n\"\n",
        "\n",
        "        for i, choice in enumerate(choices):\n",
        "            user_prompt += f\"{i+1} - {choice}\\n\"\n",
        "\n",
        "        messages=[\n",
        "            {\"role\": \"system\", \"content\": system_prompt},\n",
        "            {\"role\": \"user\", \"content\": user_prompt}\n",
        "        ]\n",
        "\n",
        "        completion = client.chat.completions.create(\n",
        "            model=\"gpt-4o\",\n",
        "            messages=messages,\n",
        "        )\n",
        "\n",
        "        pred = completion.choices[0].message.content\n",
        "        result.append({'pred': pred, 'answer': str(answer), 'score': score})\n",
        "\n",
        "    return result"
      ],
      "metadata": {
        "id": "B6LdYz6e3KOj"
      },
      "execution_count": 43,
      "outputs": []
    },
    {
      "cell_type": "code",
      "source": [
        "results_4o = [prediction_4o(problem) for problem in db]"
      ],
      "metadata": {
        "id": "T59LZKFU3VtK"
      },
      "execution_count": 44,
      "outputs": []
    },
    {
      "cell_type": "code",
      "source": [
        "print(results_4o)"
      ],
      "metadata": {
        "colab": {
          "base_uri": "https://localhost:8080/"
        },
        "id": "bfricLH73juk",
        "outputId": "d190f622-9feb-4351-fe5e-ea74d959d170"
      },
      "execution_count": 45,
      "outputs": [
        {
          "output_type": "stream",
          "name": "stdout",
          "text": [
            "[[{'pred': '4', 'answer': '4', 'score': 2}, {'pred': '5', 'answer': '5', 'score': 3}, {'pred': '1', 'answer': '1', 'score': 2}], [{'pred': '4', 'answer': '4', 'score': 2}, {'pred': '5', 'answer': '5', 'score': 2}, {'pred': '3', 'answer': '3', 'score': 2}, {'pred': '2', 'answer': '2', 'score': 2}, {'pred': '5', 'answer': '5', 'score': 3}, {'pred': '2', 'answer': '2', 'score': 2}], [{'pred': '4', 'answer': '4', 'score': 2}, {'pred': '5', 'answer': '5', 'score': 2}, {'pred': '2', 'answer': '2', 'score': 3}, {'pred': '1', 'answer': '5', 'score': 2}], [{'pred': '3', 'answer': '3', 'score': 2}, {'pred': '5', 'answer': '4', 'score': 2}, {'pred': '4', 'answer': '4', 'score': 2}, {'pred': '1', 'answer': '1', 'score': 3}], [{'pred': '4', 'answer': '4', 'score': 2}, {'pred': '3', 'answer': '3', 'score': 2}, {'pred': '3', 'answer': '3', 'score': 2}, {'pred': '5', 'answer': '5', 'score': 3}], [{'pred': '3', 'answer': '1', 'score': 2}, {'pred': '5', 'answer': '5', 'score': 2}, {'pred': '3', 'answer': '3', 'score': 3}, {'pred': '3', 'answer': '3', 'score': 2}, {'pred': '4', 'answer': '4', 'score': 2}], [{'pred': '1', 'answer': '1', 'score': 2}, {'pred': '5', 'answer': '5', 'score': 2}, {'pred': '1', 'answer': '1', 'score': 2}, {'pred': '2', 'answer': '2', 'score': 3}], [{'pred': '1', 'answer': '1', 'score': 2}, {'pred': '4', 'answer': '4', 'score': 2}, {'pred': '2', 'answer': '2', 'score': 2}, {'pred': '3', 'answer': '3', 'score': 3}], [{'pred': '1', 'answer': '1', 'score': 2}, {'pred': '5', 'answer': '5', 'score': 2}, {'pred': '3', 'answer': '3', 'score': 2}], [{'pred': '4', 'answer': '4', 'score': 2}, {'pred': '4', 'answer': '4', 'score': 2}, {'pred': '5', 'answer': '3', 'score': 2}, {'pred': '2', 'answer': '2', 'score': 3}, {'pred': '4', 'answer': '4', 'score': 2}], [{'pred': '5', 'answer': '5', 'score': 2}, {'pred': '2', 'answer': '2', 'score': 2}, {'pred': '1', 'answer': '1', 'score': 3}]]\n"
          ]
        }
      ]
    },
    {
      "cell_type": "code",
      "source": [
        "score_4o = calcAccuracy(results_4o)\n",
        "score_4o"
      ],
      "metadata": {
        "colab": {
          "base_uri": "https://localhost:8080/"
        },
        "id": "U6kvMIUH3j95",
        "outputId": "1cab0775-0dbc-4f36-8f25-8f1fadb887d6"
      },
      "execution_count": 46,
      "outputs": [
        {
          "output_type": "execute_result",
          "data": {
            "text/plain": [
              "92"
            ]
          },
          "metadata": {},
          "execution_count": 46
        }
      ]
    }
  ]
}